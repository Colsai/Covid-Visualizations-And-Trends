{
  "nbformat": 4,
  "nbformat_minor": 0,
  "metadata": {
    "colab": {
      "name": "covid_visualizations_MD.ipynb",
      "provenance": [],
      "collapsed_sections": [],
      "include_colab_link": true
    },
    "kernelspec": {
      "name": "python3",
      "display_name": "Python 3"
    }
  },
  "cells": [
    {
      "cell_type": "markdown",
      "metadata": {
        "id": "view-in-github",
        "colab_type": "text"
      },
      "source": [
        "<a href=\"https://colab.research.google.com/github/Colsai/Covid-Visualizations-And-Trends/blob/main/covid_visualizations_county_MD.ipynb\" target=\"_parent\"><img src=\"https://colab.research.google.com/assets/colab-badge.svg\" alt=\"Open In Colab\"/></a>"
      ]
    },
    {
      "cell_type": "markdown",
      "metadata": {
        "id": "KSjnz9MskJAp"
      },
      "source": [
        "# US Covid Trends and Predictions \n",
        "<blockquote> Scott Hirabayashi | (Sourced from NYT's Github) | 2020  </blockquote>\n",
        "\n",
        "- Visualizations and Basic Information about trends in cases, etc.  \n",
        "- Included- A Basic ML Model to Estimate Cases and Deaths  \n",
        "- Focus on USA/ MD / VA  \n",
        "- NYT Datasets Used  \n"
      ]
    },
    {
      "cell_type": "code",
      "metadata": {
        "id": "ri7oQl9jUU1S"
      },
      "source": [
        "#Datetime To Convert Dates\n",
        "from datetime import datetime\n",
        "\n",
        "#Import Packages for Data\n",
        "import pandas as pd\n",
        "import numpy as np\n",
        "import scipy as sci\n",
        "import seaborn as sns\n",
        "import matplotlib.pyplot as plt\n",
        "from sklearn.preprocessing import scale\n",
        "import statistics"
      ],
      "execution_count": 111,
      "outputs": []
    },
    {
      "cell_type": "code",
      "metadata": {
        "id": "paUH7lV3wv-s"
      },
      "source": [
        "#Seaborn/Matplotlib basic stats\n",
        "sns.set(style=\"ticks\")\n",
        "plt.style.use('seaborn-white')"
      ],
      "execution_count": 112,
      "outputs": []
    },
    {
      "cell_type": "code",
      "metadata": {
        "id": "Q5wwd83wVZ4m"
      },
      "source": [
        "#Cases by day from beginning (US). This is a large dataframe, so it make take a bit to load.\n",
        "\n",
        "#USA Data will be the dataframe for national data\n",
        "site = 'https://raw.githubusercontent.com/nytimes/covid-19-data/master/us-counties.csv'\n",
        "states_df = pd.read_csv(site)"
      ],
      "execution_count": 113,
      "outputs": []
    },
    {
      "cell_type": "code",
      "metadata": {
        "colab": {
          "base_uri": "https://localhost:8080/",
          "height": 204
        },
        "id": "rBjn1Ho1O-wD",
        "outputId": "513d25be-66c6-465a-a604-a075e3a38e40"
      },
      "source": [
        "#Head of the data\r\n",
        "states_df.head()"
      ],
      "execution_count": 114,
      "outputs": [
        {
          "output_type": "execute_result",
          "data": {
            "text/html": [
              "<div>\n",
              "<style scoped>\n",
              "    .dataframe tbody tr th:only-of-type {\n",
              "        vertical-align: middle;\n",
              "    }\n",
              "\n",
              "    .dataframe tbody tr th {\n",
              "        vertical-align: top;\n",
              "    }\n",
              "\n",
              "    .dataframe thead th {\n",
              "        text-align: right;\n",
              "    }\n",
              "</style>\n",
              "<table border=\"1\" class=\"dataframe\">\n",
              "  <thead>\n",
              "    <tr style=\"text-align: right;\">\n",
              "      <th></th>\n",
              "      <th>date</th>\n",
              "      <th>county</th>\n",
              "      <th>state</th>\n",
              "      <th>fips</th>\n",
              "      <th>cases</th>\n",
              "      <th>deaths</th>\n",
              "    </tr>\n",
              "  </thead>\n",
              "  <tbody>\n",
              "    <tr>\n",
              "      <th>0</th>\n",
              "      <td>2020-01-21</td>\n",
              "      <td>Snohomish</td>\n",
              "      <td>Washington</td>\n",
              "      <td>53061.0</td>\n",
              "      <td>1</td>\n",
              "      <td>0.0</td>\n",
              "    </tr>\n",
              "    <tr>\n",
              "      <th>1</th>\n",
              "      <td>2020-01-22</td>\n",
              "      <td>Snohomish</td>\n",
              "      <td>Washington</td>\n",
              "      <td>53061.0</td>\n",
              "      <td>1</td>\n",
              "      <td>0.0</td>\n",
              "    </tr>\n",
              "    <tr>\n",
              "      <th>2</th>\n",
              "      <td>2020-01-23</td>\n",
              "      <td>Snohomish</td>\n",
              "      <td>Washington</td>\n",
              "      <td>53061.0</td>\n",
              "      <td>1</td>\n",
              "      <td>0.0</td>\n",
              "    </tr>\n",
              "    <tr>\n",
              "      <th>3</th>\n",
              "      <td>2020-01-24</td>\n",
              "      <td>Cook</td>\n",
              "      <td>Illinois</td>\n",
              "      <td>17031.0</td>\n",
              "      <td>1</td>\n",
              "      <td>0.0</td>\n",
              "    </tr>\n",
              "    <tr>\n",
              "      <th>4</th>\n",
              "      <td>2020-01-24</td>\n",
              "      <td>Snohomish</td>\n",
              "      <td>Washington</td>\n",
              "      <td>53061.0</td>\n",
              "      <td>1</td>\n",
              "      <td>0.0</td>\n",
              "    </tr>\n",
              "  </tbody>\n",
              "</table>\n",
              "</div>"
            ],
            "text/plain": [
              "         date     county       state     fips  cases  deaths\n",
              "0  2020-01-21  Snohomish  Washington  53061.0      1     0.0\n",
              "1  2020-01-22  Snohomish  Washington  53061.0      1     0.0\n",
              "2  2020-01-23  Snohomish  Washington  53061.0      1     0.0\n",
              "3  2020-01-24       Cook    Illinois  17031.0      1     0.0\n",
              "4  2020-01-24  Snohomish  Washington  53061.0      1     0.0"
            ]
          },
          "metadata": {
            "tags": []
          },
          "execution_count": 114
        }
      ]
    },
    {
      "cell_type": "code",
      "metadata": {
        "colab": {
          "base_uri": "https://localhost:8080/",
          "height": 204
        },
        "id": "1HRHJuxuPBek",
        "outputId": "123aabc0-d3e0-4481-c756-1faa8d1e5615"
      },
      "source": [
        "#Tail of the data\r\n",
        "states_df.tail()"
      ],
      "execution_count": 115,
      "outputs": [
        {
          "output_type": "execute_result",
          "data": {
            "text/html": [
              "<div>\n",
              "<style scoped>\n",
              "    .dataframe tbody tr th:only-of-type {\n",
              "        vertical-align: middle;\n",
              "    }\n",
              "\n",
              "    .dataframe tbody tr th {\n",
              "        vertical-align: top;\n",
              "    }\n",
              "\n",
              "    .dataframe thead th {\n",
              "        text-align: right;\n",
              "    }\n",
              "</style>\n",
              "<table border=\"1\" class=\"dataframe\">\n",
              "  <thead>\n",
              "    <tr style=\"text-align: right;\">\n",
              "      <th></th>\n",
              "      <th>date</th>\n",
              "      <th>county</th>\n",
              "      <th>state</th>\n",
              "      <th>fips</th>\n",
              "      <th>cases</th>\n",
              "      <th>deaths</th>\n",
              "    </tr>\n",
              "  </thead>\n",
              "  <tbody>\n",
              "    <tr>\n",
              "      <th>813412</th>\n",
              "      <td>2020-12-09</td>\n",
              "      <td>Sweetwater</td>\n",
              "      <td>Wyoming</td>\n",
              "      <td>56037.0</td>\n",
              "      <td>2245</td>\n",
              "      <td>13.0</td>\n",
              "    </tr>\n",
              "    <tr>\n",
              "      <th>813413</th>\n",
              "      <td>2020-12-09</td>\n",
              "      <td>Teton</td>\n",
              "      <td>Wyoming</td>\n",
              "      <td>56039.0</td>\n",
              "      <td>1834</td>\n",
              "      <td>2.0</td>\n",
              "    </tr>\n",
              "    <tr>\n",
              "      <th>813414</th>\n",
              "      <td>2020-12-09</td>\n",
              "      <td>Uinta</td>\n",
              "      <td>Wyoming</td>\n",
              "      <td>56041.0</td>\n",
              "      <td>1250</td>\n",
              "      <td>7.0</td>\n",
              "    </tr>\n",
              "    <tr>\n",
              "      <th>813415</th>\n",
              "      <td>2020-12-09</td>\n",
              "      <td>Washakie</td>\n",
              "      <td>Wyoming</td>\n",
              "      <td>56043.0</td>\n",
              "      <td>585</td>\n",
              "      <td>11.0</td>\n",
              "    </tr>\n",
              "    <tr>\n",
              "      <th>813416</th>\n",
              "      <td>2020-12-09</td>\n",
              "      <td>Weston</td>\n",
              "      <td>Wyoming</td>\n",
              "      <td>56045.0</td>\n",
              "      <td>427</td>\n",
              "      <td>2.0</td>\n",
              "    </tr>\n",
              "  </tbody>\n",
              "</table>\n",
              "</div>"
            ],
            "text/plain": [
              "              date      county    state     fips  cases  deaths\n",
              "813412  2020-12-09  Sweetwater  Wyoming  56037.0   2245    13.0\n",
              "813413  2020-12-09       Teton  Wyoming  56039.0   1834     2.0\n",
              "813414  2020-12-09       Uinta  Wyoming  56041.0   1250     7.0\n",
              "813415  2020-12-09    Washakie  Wyoming  56043.0    585    11.0\n",
              "813416  2020-12-09      Weston  Wyoming  56045.0    427     2.0"
            ]
          },
          "metadata": {
            "tags": []
          },
          "execution_count": 115
        }
      ]
    },
    {
      "cell_type": "code",
      "metadata": {
        "colab": {
          "base_uri": "https://localhost:8080/",
          "height": 204
        },
        "id": "_51hqhdtPDA-",
        "outputId": "72b30562-636f-4f02-9310-c44845c37883"
      },
      "source": [
        "#Sample of the data\r\n",
        "states_df.sample(5)"
      ],
      "execution_count": 116,
      "outputs": [
        {
          "output_type": "execute_result",
          "data": {
            "text/html": [
              "<div>\n",
              "<style scoped>\n",
              "    .dataframe tbody tr th:only-of-type {\n",
              "        vertical-align: middle;\n",
              "    }\n",
              "\n",
              "    .dataframe tbody tr th {\n",
              "        vertical-align: top;\n",
              "    }\n",
              "\n",
              "    .dataframe thead th {\n",
              "        text-align: right;\n",
              "    }\n",
              "</style>\n",
              "<table border=\"1\" class=\"dataframe\">\n",
              "  <thead>\n",
              "    <tr style=\"text-align: right;\">\n",
              "      <th></th>\n",
              "      <th>date</th>\n",
              "      <th>county</th>\n",
              "      <th>state</th>\n",
              "      <th>fips</th>\n",
              "      <th>cases</th>\n",
              "      <th>deaths</th>\n",
              "    </tr>\n",
              "  </thead>\n",
              "  <tbody>\n",
              "    <tr>\n",
              "      <th>252943</th>\n",
              "      <td>2020-06-19</td>\n",
              "      <td>Holmes</td>\n",
              "      <td>Florida</td>\n",
              "      <td>12059.0</td>\n",
              "      <td>45</td>\n",
              "      <td>0.0</td>\n",
              "    </tr>\n",
              "    <tr>\n",
              "      <th>268908</th>\n",
              "      <td>2020-06-24</td>\n",
              "      <td>Tazewell</td>\n",
              "      <td>Illinois</td>\n",
              "      <td>17179.0</td>\n",
              "      <td>115</td>\n",
              "      <td>7.0</td>\n",
              "    </tr>\n",
              "    <tr>\n",
              "      <th>398243</th>\n",
              "      <td>2020-08-03</td>\n",
              "      <td>Archer</td>\n",
              "      <td>Texas</td>\n",
              "      <td>48009.0</td>\n",
              "      <td>20</td>\n",
              "      <td>0.0</td>\n",
              "    </tr>\n",
              "    <tr>\n",
              "      <th>22787</th>\n",
              "      <td>2020-03-31</td>\n",
              "      <td>Oktibbeha</td>\n",
              "      <td>Mississippi</td>\n",
              "      <td>28105.0</td>\n",
              "      <td>17</td>\n",
              "      <td>0.0</td>\n",
              "    </tr>\n",
              "    <tr>\n",
              "      <th>305900</th>\n",
              "      <td>2020-07-05</td>\n",
              "      <td>Pacific</td>\n",
              "      <td>Washington</td>\n",
              "      <td>53049.0</td>\n",
              "      <td>18</td>\n",
              "      <td>1.0</td>\n",
              "    </tr>\n",
              "  </tbody>\n",
              "</table>\n",
              "</div>"
            ],
            "text/plain": [
              "              date     county        state     fips  cases  deaths\n",
              "252943  2020-06-19     Holmes      Florida  12059.0     45     0.0\n",
              "268908  2020-06-24   Tazewell     Illinois  17179.0    115     7.0\n",
              "398243  2020-08-03     Archer        Texas  48009.0     20     0.0\n",
              "22787   2020-03-31  Oktibbeha  Mississippi  28105.0     17     0.0\n",
              "305900  2020-07-05    Pacific   Washington  53049.0     18     1.0"
            ]
          },
          "metadata": {
            "tags": []
          },
          "execution_count": 116
        }
      ]
    },
    {
      "cell_type": "code",
      "metadata": {
        "colab": {
          "base_uri": "https://localhost:8080/",
          "height": 297
        },
        "id": "A0VroRfAPQHk",
        "outputId": "256f5065-1b5b-40f2-f406-c7cee99e2ac5"
      },
      "source": [
        "#Let's See What We Have...\r\n",
        "states_df.describe()"
      ],
      "execution_count": 132,
      "outputs": [
        {
          "output_type": "execute_result",
          "data": {
            "text/html": [
              "<div>\n",
              "<style scoped>\n",
              "    .dataframe tbody tr th:only-of-type {\n",
              "        vertical-align: middle;\n",
              "    }\n",
              "\n",
              "    .dataframe tbody tr th {\n",
              "        vertical-align: top;\n",
              "    }\n",
              "\n",
              "    .dataframe thead th {\n",
              "        text-align: right;\n",
              "    }\n",
              "</style>\n",
              "<table border=\"1\" class=\"dataframe\">\n",
              "  <thead>\n",
              "    <tr style=\"text-align: right;\">\n",
              "      <th></th>\n",
              "      <th>cases</th>\n",
              "      <th>deaths</th>\n",
              "    </tr>\n",
              "  </thead>\n",
              "  <tbody>\n",
              "    <tr>\n",
              "      <th>count</th>\n",
              "      <td>813417.000000</td>\n",
              "      <td>796372.000000</td>\n",
              "    </tr>\n",
              "    <tr>\n",
              "      <th>mean</th>\n",
              "      <td>1638.767364</td>\n",
              "      <td>49.473617</td>\n",
              "    </tr>\n",
              "    <tr>\n",
              "      <th>std</th>\n",
              "      <td>8589.349336</td>\n",
              "      <td>442.036904</td>\n",
              "    </tr>\n",
              "    <tr>\n",
              "      <th>min</th>\n",
              "      <td>0.000000</td>\n",
              "      <td>0.000000</td>\n",
              "    </tr>\n",
              "    <tr>\n",
              "      <th>25%</th>\n",
              "      <td>30.000000</td>\n",
              "      <td>0.000000</td>\n",
              "    </tr>\n",
              "    <tr>\n",
              "      <th>50%</th>\n",
              "      <td>182.000000</td>\n",
              "      <td>3.000000</td>\n",
              "    </tr>\n",
              "    <tr>\n",
              "      <th>75%</th>\n",
              "      <td>806.000000</td>\n",
              "      <td>18.000000</td>\n",
              "    </tr>\n",
              "    <tr>\n",
              "      <th>max</th>\n",
              "      <td>475409.000000</td>\n",
              "      <td>24416.000000</td>\n",
              "    </tr>\n",
              "  </tbody>\n",
              "</table>\n",
              "</div>"
            ],
            "text/plain": [
              "               cases         deaths\n",
              "count  813417.000000  796372.000000\n",
              "mean     1638.767364      49.473617\n",
              "std      8589.349336     442.036904\n",
              "min         0.000000       0.000000\n",
              "25%        30.000000       0.000000\n",
              "50%       182.000000       3.000000\n",
              "75%       806.000000      18.000000\n",
              "max    475409.000000   24416.000000"
            ]
          },
          "metadata": {
            "tags": []
          },
          "execution_count": 132
        }
      ]
    },
    {
      "cell_type": "code",
      "metadata": {
        "colab": {
          "base_uri": "https://localhost:8080/"
        },
        "id": "yYckAdobPTXM",
        "outputId": "b958e0fd-0ffc-40b7-f845-1ca48a8dbba4"
      },
      "source": [
        "#Shape of the Dataframe\r\n",
        "states_df.shape"
      ],
      "execution_count": 118,
      "outputs": [
        {
          "output_type": "execute_result",
          "data": {
            "text/plain": [
              "(813417, 6)"
            ]
          },
          "metadata": {
            "tags": []
          },
          "execution_count": 118
        }
      ]
    },
    {
      "cell_type": "code",
      "metadata": {
        "colab": {
          "base_uri": "https://localhost:8080/"
        },
        "id": "wcixWAmrPNxB",
        "outputId": "646497f7-720e-4478-a464-5c7a613cccde"
      },
      "source": [
        "#What are the different types of data?\r\n",
        "states_df.dtypes"
      ],
      "execution_count": 119,
      "outputs": [
        {
          "output_type": "execute_result",
          "data": {
            "text/plain": [
              "date       object\n",
              "county     object\n",
              "state      object\n",
              "fips      float64\n",
              "cases       int64\n",
              "deaths    float64\n",
              "dtype: object"
            ]
          },
          "metadata": {
            "tags": []
          },
          "execution_count": 119
        }
      ]
    },
    {
      "cell_type": "code",
      "metadata": {
        "id": "LRxFNNePPE1s"
      },
      "source": [
        "#Let's convert the states_df date to datetime, so that it will graph easier. \r\n",
        "states_df['date'] = pd.to_datetime(states_df['date'])"
      ],
      "execution_count": 120,
      "outputs": []
    },
    {
      "cell_type": "code",
      "metadata": {
        "id": "LmQAopQZPvGz"
      },
      "source": [
        "#\r\n",
        "states_df = states_df.drop(columns = \"fips\")"
      ],
      "execution_count": 121,
      "outputs": []
    },
    {
      "cell_type": "code",
      "metadata": {
        "colab": {
          "base_uri": "https://localhost:8080/",
          "height": 419
        },
        "id": "fINJeXUdPfD1",
        "outputId": "ce4c49d3-f47c-4f59-e5f9-5e89e1e364d1"
      },
      "source": [
        "states_df.melt(id_vars = [\"date\", \"county\", \"state\"])"
      ],
      "execution_count": 122,
      "outputs": [
        {
          "output_type": "execute_result",
          "data": {
            "text/html": [
              "<div>\n",
              "<style scoped>\n",
              "    .dataframe tbody tr th:only-of-type {\n",
              "        vertical-align: middle;\n",
              "    }\n",
              "\n",
              "    .dataframe tbody tr th {\n",
              "        vertical-align: top;\n",
              "    }\n",
              "\n",
              "    .dataframe thead th {\n",
              "        text-align: right;\n",
              "    }\n",
              "</style>\n",
              "<table border=\"1\" class=\"dataframe\">\n",
              "  <thead>\n",
              "    <tr style=\"text-align: right;\">\n",
              "      <th></th>\n",
              "      <th>date</th>\n",
              "      <th>county</th>\n",
              "      <th>state</th>\n",
              "      <th>variable</th>\n",
              "      <th>value</th>\n",
              "    </tr>\n",
              "  </thead>\n",
              "  <tbody>\n",
              "    <tr>\n",
              "      <th>0</th>\n",
              "      <td>2020-01-21</td>\n",
              "      <td>Snohomish</td>\n",
              "      <td>Washington</td>\n",
              "      <td>cases</td>\n",
              "      <td>1.0</td>\n",
              "    </tr>\n",
              "    <tr>\n",
              "      <th>1</th>\n",
              "      <td>2020-01-22</td>\n",
              "      <td>Snohomish</td>\n",
              "      <td>Washington</td>\n",
              "      <td>cases</td>\n",
              "      <td>1.0</td>\n",
              "    </tr>\n",
              "    <tr>\n",
              "      <th>2</th>\n",
              "      <td>2020-01-23</td>\n",
              "      <td>Snohomish</td>\n",
              "      <td>Washington</td>\n",
              "      <td>cases</td>\n",
              "      <td>1.0</td>\n",
              "    </tr>\n",
              "    <tr>\n",
              "      <th>3</th>\n",
              "      <td>2020-01-24</td>\n",
              "      <td>Cook</td>\n",
              "      <td>Illinois</td>\n",
              "      <td>cases</td>\n",
              "      <td>1.0</td>\n",
              "    </tr>\n",
              "    <tr>\n",
              "      <th>4</th>\n",
              "      <td>2020-01-24</td>\n",
              "      <td>Snohomish</td>\n",
              "      <td>Washington</td>\n",
              "      <td>cases</td>\n",
              "      <td>1.0</td>\n",
              "    </tr>\n",
              "    <tr>\n",
              "      <th>...</th>\n",
              "      <td>...</td>\n",
              "      <td>...</td>\n",
              "      <td>...</td>\n",
              "      <td>...</td>\n",
              "      <td>...</td>\n",
              "    </tr>\n",
              "    <tr>\n",
              "      <th>1626829</th>\n",
              "      <td>2020-12-09</td>\n",
              "      <td>Sweetwater</td>\n",
              "      <td>Wyoming</td>\n",
              "      <td>deaths</td>\n",
              "      <td>13.0</td>\n",
              "    </tr>\n",
              "    <tr>\n",
              "      <th>1626830</th>\n",
              "      <td>2020-12-09</td>\n",
              "      <td>Teton</td>\n",
              "      <td>Wyoming</td>\n",
              "      <td>deaths</td>\n",
              "      <td>2.0</td>\n",
              "    </tr>\n",
              "    <tr>\n",
              "      <th>1626831</th>\n",
              "      <td>2020-12-09</td>\n",
              "      <td>Uinta</td>\n",
              "      <td>Wyoming</td>\n",
              "      <td>deaths</td>\n",
              "      <td>7.0</td>\n",
              "    </tr>\n",
              "    <tr>\n",
              "      <th>1626832</th>\n",
              "      <td>2020-12-09</td>\n",
              "      <td>Washakie</td>\n",
              "      <td>Wyoming</td>\n",
              "      <td>deaths</td>\n",
              "      <td>11.0</td>\n",
              "    </tr>\n",
              "    <tr>\n",
              "      <th>1626833</th>\n",
              "      <td>2020-12-09</td>\n",
              "      <td>Weston</td>\n",
              "      <td>Wyoming</td>\n",
              "      <td>deaths</td>\n",
              "      <td>2.0</td>\n",
              "    </tr>\n",
              "  </tbody>\n",
              "</table>\n",
              "<p>1626834 rows × 5 columns</p>\n",
              "</div>"
            ],
            "text/plain": [
              "              date      county       state variable  value\n",
              "0       2020-01-21   Snohomish  Washington    cases    1.0\n",
              "1       2020-01-22   Snohomish  Washington    cases    1.0\n",
              "2       2020-01-23   Snohomish  Washington    cases    1.0\n",
              "3       2020-01-24        Cook    Illinois    cases    1.0\n",
              "4       2020-01-24   Snohomish  Washington    cases    1.0\n",
              "...            ...         ...         ...      ...    ...\n",
              "1626829 2020-12-09  Sweetwater     Wyoming   deaths   13.0\n",
              "1626830 2020-12-09       Teton     Wyoming   deaths    2.0\n",
              "1626831 2020-12-09       Uinta     Wyoming   deaths    7.0\n",
              "1626832 2020-12-09    Washakie     Wyoming   deaths   11.0\n",
              "1626833 2020-12-09      Weston     Wyoming   deaths    2.0\n",
              "\n",
              "[1626834 rows x 5 columns]"
            ]
          },
          "metadata": {
            "tags": []
          },
          "execution_count": 122
        }
      ]
    },
    {
      "cell_type": "code",
      "metadata": {
        "colab": {
          "base_uri": "https://localhost:8080/",
          "height": 204
        },
        "id": "k3fiZ9sJQH70",
        "outputId": "8bbd5dc2-8fa7-4b69-c689-942c47193212"
      },
      "source": [
        "co_df = states_df.loc[(states_df['state'] == \"Maryland\") & (states_df['county'] == \"Montgomery\")]\r\n",
        "co_df = co_df.reset_index()\r\n",
        "co_df.head()"
      ],
      "execution_count": 123,
      "outputs": [
        {
          "output_type": "execute_result",
          "data": {
            "text/html": [
              "<div>\n",
              "<style scoped>\n",
              "    .dataframe tbody tr th:only-of-type {\n",
              "        vertical-align: middle;\n",
              "    }\n",
              "\n",
              "    .dataframe tbody tr th {\n",
              "        vertical-align: top;\n",
              "    }\n",
              "\n",
              "    .dataframe thead th {\n",
              "        text-align: right;\n",
              "    }\n",
              "</style>\n",
              "<table border=\"1\" class=\"dataframe\">\n",
              "  <thead>\n",
              "    <tr style=\"text-align: right;\">\n",
              "      <th></th>\n",
              "      <th>index</th>\n",
              "      <th>date</th>\n",
              "      <th>county</th>\n",
              "      <th>state</th>\n",
              "      <th>cases</th>\n",
              "      <th>deaths</th>\n",
              "    </tr>\n",
              "  </thead>\n",
              "  <tbody>\n",
              "    <tr>\n",
              "      <th>0</th>\n",
              "      <td>555</td>\n",
              "      <td>2020-03-05</td>\n",
              "      <td>Montgomery</td>\n",
              "      <td>Maryland</td>\n",
              "      <td>3</td>\n",
              "      <td>0.0</td>\n",
              "    </tr>\n",
              "    <tr>\n",
              "      <th>1</th>\n",
              "      <td>615</td>\n",
              "      <td>2020-03-06</td>\n",
              "      <td>Montgomery</td>\n",
              "      <td>Maryland</td>\n",
              "      <td>3</td>\n",
              "      <td>0.0</td>\n",
              "    </tr>\n",
              "    <tr>\n",
              "      <th>2</th>\n",
              "      <td>700</td>\n",
              "      <td>2020-03-07</td>\n",
              "      <td>Montgomery</td>\n",
              "      <td>Maryland</td>\n",
              "      <td>3</td>\n",
              "      <td>0.0</td>\n",
              "    </tr>\n",
              "    <tr>\n",
              "      <th>3</th>\n",
              "      <td>802</td>\n",
              "      <td>2020-03-08</td>\n",
              "      <td>Montgomery</td>\n",
              "      <td>Maryland</td>\n",
              "      <td>4</td>\n",
              "      <td>0.0</td>\n",
              "    </tr>\n",
              "    <tr>\n",
              "      <th>4</th>\n",
              "      <td>925</td>\n",
              "      <td>2020-03-09</td>\n",
              "      <td>Montgomery</td>\n",
              "      <td>Maryland</td>\n",
              "      <td>4</td>\n",
              "      <td>0.0</td>\n",
              "    </tr>\n",
              "  </tbody>\n",
              "</table>\n",
              "</div>"
            ],
            "text/plain": [
              "   index       date      county     state  cases  deaths\n",
              "0    555 2020-03-05  Montgomery  Maryland      3     0.0\n",
              "1    615 2020-03-06  Montgomery  Maryland      3     0.0\n",
              "2    700 2020-03-07  Montgomery  Maryland      3     0.0\n",
              "3    802 2020-03-08  Montgomery  Maryland      4     0.0\n",
              "4    925 2020-03-09  Montgomery  Maryland      4     0.0"
            ]
          },
          "metadata": {
            "tags": []
          },
          "execution_count": 123
        }
      ]
    },
    {
      "cell_type": "code",
      "metadata": {
        "colab": {
          "base_uri": "https://localhost:8080/",
          "height": 204
        },
        "id": "sJnmcDqFRUSR",
        "outputId": "a18fffc9-124d-4a1d-f2f4-8424c6453048"
      },
      "source": [
        "co_df.head()"
      ],
      "execution_count": 134,
      "outputs": [
        {
          "output_type": "execute_result",
          "data": {
            "text/html": [
              "<div>\n",
              "<style scoped>\n",
              "    .dataframe tbody tr th:only-of-type {\n",
              "        vertical-align: middle;\n",
              "    }\n",
              "\n",
              "    .dataframe tbody tr th {\n",
              "        vertical-align: top;\n",
              "    }\n",
              "\n",
              "    .dataframe thead th {\n",
              "        text-align: right;\n",
              "    }\n",
              "</style>\n",
              "<table border=\"1\" class=\"dataframe\">\n",
              "  <thead>\n",
              "    <tr style=\"text-align: right;\">\n",
              "      <th></th>\n",
              "      <th>index</th>\n",
              "      <th>date</th>\n",
              "      <th>county</th>\n",
              "      <th>state</th>\n",
              "      <th>cases</th>\n",
              "      <th>deaths</th>\n",
              "    </tr>\n",
              "  </thead>\n",
              "  <tbody>\n",
              "    <tr>\n",
              "      <th>0</th>\n",
              "      <td>555</td>\n",
              "      <td>2020-03-05</td>\n",
              "      <td>Montgomery</td>\n",
              "      <td>Maryland</td>\n",
              "      <td>3</td>\n",
              "      <td>0.0</td>\n",
              "    </tr>\n",
              "    <tr>\n",
              "      <th>1</th>\n",
              "      <td>615</td>\n",
              "      <td>2020-03-06</td>\n",
              "      <td>Montgomery</td>\n",
              "      <td>Maryland</td>\n",
              "      <td>3</td>\n",
              "      <td>0.0</td>\n",
              "    </tr>\n",
              "    <tr>\n",
              "      <th>2</th>\n",
              "      <td>700</td>\n",
              "      <td>2020-03-07</td>\n",
              "      <td>Montgomery</td>\n",
              "      <td>Maryland</td>\n",
              "      <td>3</td>\n",
              "      <td>0.0</td>\n",
              "    </tr>\n",
              "    <tr>\n",
              "      <th>3</th>\n",
              "      <td>802</td>\n",
              "      <td>2020-03-08</td>\n",
              "      <td>Montgomery</td>\n",
              "      <td>Maryland</td>\n",
              "      <td>4</td>\n",
              "      <td>0.0</td>\n",
              "    </tr>\n",
              "    <tr>\n",
              "      <th>4</th>\n",
              "      <td>925</td>\n",
              "      <td>2020-03-09</td>\n",
              "      <td>Montgomery</td>\n",
              "      <td>Maryland</td>\n",
              "      <td>4</td>\n",
              "      <td>0.0</td>\n",
              "    </tr>\n",
              "  </tbody>\n",
              "</table>\n",
              "</div>"
            ],
            "text/plain": [
              "   index       date      county     state  cases  deaths\n",
              "0    555 2020-03-05  Montgomery  Maryland      3     0.0\n",
              "1    615 2020-03-06  Montgomery  Maryland      3     0.0\n",
              "2    700 2020-03-07  Montgomery  Maryland      3     0.0\n",
              "3    802 2020-03-08  Montgomery  Maryland      4     0.0\n",
              "4    925 2020-03-09  Montgomery  Maryland      4     0.0"
            ]
          },
          "metadata": {
            "tags": []
          },
          "execution_count": 134
        }
      ]
    },
    {
      "cell_type": "code",
      "metadata": {
        "colab": {
          "base_uri": "https://localhost:8080/",
          "height": 541
        },
        "id": "LJbiIpPPREZQ",
        "outputId": "c0c31122-5351-4cf3-aac0-b20b0ead7935"
      },
      "source": [
        "#EDA Basic Plotting for Cases by Date\r\n",
        "date = co_df['date']\r\n",
        "co_cases = co_df['cases']\r\n",
        "co_deaths = co_df['deaths']\r\n",
        "\r\n",
        "fig, ax = plt.subplots(figsize = (14,8))\r\n",
        "\r\n",
        "ax.plot(date, co_cases, '-', alpha = .75, color = 'black', label = f\"Cases\")\r\n",
        "ax.bar(date, co_cases, alpha = .25, color = 'orange')\r\n",
        "ax.plot(date, co_cases.rolling(7).mean(), '-', alpha = .75, linewidth = 1, color = 'blue', label = \"7 day Rolling Average\")\r\n",
        "ax.plot(date, co_cases.rolling(21).mean(), '--', alpha = .75, linewidth = 1, color = 'black', label = \"42 day Rolling Average\")\r\n",
        "\r\n",
        "ax.set_title(f\"Montgomery County Cases\", fontsize = 16)\r\n",
        "ax.grid(which = 'both', color='gray', alpha = .75, linestyle='-', linewidth=.5)\r\n",
        "ax.set_xlabel(\"Date\", labelpad=15, fontsize=12, color=\"#333533\");\r\n",
        "ax.set_ylabel(f\"Mobility Score Average\", labelpad=15, fontsize=12, color=\"#333533\")\r\n",
        "ax.legend()"
      ],
      "execution_count": 146,
      "outputs": [
        {
          "output_type": "execute_result",
          "data": {
            "text/plain": [
              "<matplotlib.legend.Legend at 0x7fa5ed9bccc0>"
            ]
          },
          "metadata": {
            "tags": []
          },
          "execution_count": 146
        },
        {
          "output_type": "display_data",
          "data": {
            "image/png": "[encoded data removed]",
            "text/plain": [
              "<Figure size 1008x576 with 1 Axes>"
            ]
          },
          "metadata": {
            "tags": []
          }
        }
      ]
    },
    {
      "cell_type": "code",
      "metadata": {
        "id": "egP0F432SzWP"
      },
      "source": [
        "md_df = states_df.loc[(states_df['state'] == \"Maryland\")]"
      ],
      "execution_count": 155,
      "outputs": []
    },
    {
      "cell_type": "code",
      "metadata": {
        "id": "RAIMmUkLSgn0"
      },
      "source": [
        "#Let's look at Montgomery County and Prince George's\r\n",
        "mc_df = states_df.loc[(states_df['state'] == \"Maryland\") & (states_df['county'] == \"Montgomery\")]\r\n",
        "pg_df = states_df.loc[(states_df['state'] == \"Maryland\") & (states_df['county'] == \"Prince George's\")]\r\n",
        "\r\n",
        "#Reset the Indexes\r\n",
        "pg_df = pg_df.reset_index()\r\n",
        "mc_df = mc_df.reset_index()"
      ],
      "execution_count": 160,
      "outputs": []
    },
    {
      "cell_type": "code",
      "metadata": {
        "colab": {
          "base_uri": "https://localhost:8080/",
          "height": 204
        },
        "id": "lCHR-GCYSsor",
        "outputId": "fa4150d8-c379-4d0b-89b9-8dd3687c4ed5"
      },
      "source": [
        "#What's at the start of the dataframe?\r\n",
        "pg_df.head()"
      ],
      "execution_count": 162,
      "outputs": [
        {
          "output_type": "execute_result",
          "data": {
            "text/html": [
              "<div>\n",
              "<style scoped>\n",
              "    .dataframe tbody tr th:only-of-type {\n",
              "        vertical-align: middle;\n",
              "    }\n",
              "\n",
              "    .dataframe tbody tr th {\n",
              "        vertical-align: top;\n",
              "    }\n",
              "\n",
              "    .dataframe thead th {\n",
              "        text-align: right;\n",
              "    }\n",
              "</style>\n",
              "<table border=\"1\" class=\"dataframe\">\n",
              "  <thead>\n",
              "    <tr style=\"text-align: right;\">\n",
              "      <th></th>\n",
              "      <th>index</th>\n",
              "      <th>date</th>\n",
              "      <th>county</th>\n",
              "      <th>state</th>\n",
              "      <th>cases</th>\n",
              "      <th>deaths</th>\n",
              "    </tr>\n",
              "  </thead>\n",
              "  <tbody>\n",
              "    <tr>\n",
              "      <th>0</th>\n",
              "      <td>926</td>\n",
              "      <td>2020-03-09</td>\n",
              "      <td>Prince George's</td>\n",
              "      <td>Maryland</td>\n",
              "      <td>1</td>\n",
              "      <td>0.0</td>\n",
              "    </tr>\n",
              "    <tr>\n",
              "      <th>1</th>\n",
              "      <td>1072</td>\n",
              "      <td>2020-03-10</td>\n",
              "      <td>Prince George's</td>\n",
              "      <td>Maryland</td>\n",
              "      <td>3</td>\n",
              "      <td>0.0</td>\n",
              "    </tr>\n",
              "    <tr>\n",
              "      <th>2</th>\n",
              "      <td>1252</td>\n",
              "      <td>2020-03-11</td>\n",
              "      <td>Prince George's</td>\n",
              "      <td>Maryland</td>\n",
              "      <td>5</td>\n",
              "      <td>0.0</td>\n",
              "    </tr>\n",
              "    <tr>\n",
              "      <th>3</th>\n",
              "      <td>1470</td>\n",
              "      <td>2020-03-12</td>\n",
              "      <td>Prince George's</td>\n",
              "      <td>Maryland</td>\n",
              "      <td>5</td>\n",
              "      <td>0.0</td>\n",
              "    </tr>\n",
              "    <tr>\n",
              "      <th>4</th>\n",
              "      <td>1749</td>\n",
              "      <td>2020-03-13</td>\n",
              "      <td>Prince George's</td>\n",
              "      <td>Maryland</td>\n",
              "      <td>7</td>\n",
              "      <td>0.0</td>\n",
              "    </tr>\n",
              "  </tbody>\n",
              "</table>\n",
              "</div>"
            ],
            "text/plain": [
              "   index       date           county     state  cases  deaths\n",
              "0    926 2020-03-09  Prince George's  Maryland      1     0.0\n",
              "1   1072 2020-03-10  Prince George's  Maryland      3     0.0\n",
              "2   1252 2020-03-11  Prince George's  Maryland      5     0.0\n",
              "3   1470 2020-03-12  Prince George's  Maryland      5     0.0\n",
              "4   1749 2020-03-13  Prince George's  Maryland      7     0.0"
            ]
          },
          "metadata": {
            "tags": []
          },
          "execution_count": 162
        }
      ]
    },
    {
      "cell_type": "code",
      "metadata": {
        "colab": {
          "base_uri": "https://localhost:8080/",
          "height": 541
        },
        "id": "yNAfIhLORRfP",
        "outputId": "a4f77ac9-3af7-4a2e-de1a-d85d093a8503"
      },
      "source": [
        "#EDA Basic Plotting for Cases by Date\r\n",
        "date = mc_df['date'][4:]\r\n",
        "mc_cases = mc_df['cases'][4:]\r\n",
        "pg_cases = pg_df['cases']\r\n",
        "\r\n",
        "fig, ax = plt.subplots(figsize = (14,8))\r\n",
        "\r\n",
        "ax.plot(date, mc_cases, '-', alpha = 1, color = 'black', linewidth = 2, label = f\"Montgomery Cases\")\r\n",
        "ax.bar(date, mc_cases, alpha = .2, color = 'orange')\r\n",
        "ax.plot(date, mc_cases.rolling(7).mean(), '--', alpha = .75, linewidth = 1, color = 'orange', label = \"MC 7 day Rolling Average\")\r\n",
        "\r\n",
        "ax.plot(date, pg_cases, '-', alpha = 1, color = 'red', linewidth = 2, label = f\"Prince George's Cases\")\r\n",
        "ax.bar(date, pg_cases, alpha = .2, color = 'orange')\r\n",
        "ax.plot(date, pg_cases.rolling(7).mean(), '--', alpha = .75, linewidth = 1, color = 'red', label = \"PG 7 day Rolling Average\")\r\n",
        "\r\n",
        "ax.set_title(f\"MC/PG Coronavirus Cases\", fontsize = 16)\r\n",
        "ax.grid(which = 'both', color='gray', alpha = .75, linestyle='-', linewidth=.5)\r\n",
        "ax.set_xlabel(\"Date\", labelpad=15, fontsize=12, color=\"#333533\");\r\n",
        "ax.set_ylabel(f\"Total Cases in Montgomery and PG\", labelpad=15, fontsize=12, color=\"#333533\")\r\n",
        "ax.legend()"
      ],
      "execution_count": 180,
      "outputs": [
        {
          "output_type": "execute_result",
          "data": {
            "text/plain": [
              "<matplotlib.legend.Legend at 0x7fa5ea695ef0>"
            ]
          },
          "metadata": {
            "tags": []
          },
          "execution_count": 180
        },
        {
          "output_type": "display_data",
          "data": {
            "image/png": "[encoded data removed]",
            "text/plain": [
              "<Figure size 1008x576 with 1 Axes>"
            ]
          },
          "metadata": {
            "tags": []
          }
        }
      ]
    },
    {
      "cell_type": "code",
      "metadata": {
        "id": "sWqBXJrGTgMW"
      },
      "source": [
        ""
      ],
      "execution_count": null,
      "outputs": []
    }
  ]
}